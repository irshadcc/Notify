{
  "nbformat": 4,
  "nbformat_minor": 0,
  "metadata": {
    "colab": {
      "name": "recommended_notebooks.ipynb",
      "provenance": [],
      "collapsed_sections": []
    },
    "kernelspec": {
      "name": "python3",
      "display_name": "Python 3"
    }
  },
  "cells": [
    {
      "cell_type": "code",
      "metadata": {
        "id": "U5ZgRkP-W3J0",
        "colab_type": "code",
        "colab": {}
      },
      "source": [
        "from sklearn.feature_extraction.text import TfidfVectorizer"
      ],
      "execution_count": null,
      "outputs": []
    },
    {
      "cell_type": "code",
      "metadata": {
        "id": "cFBojAHoeB1f",
        "colab_type": "code",
        "colab": {}
      },
      "source": [
        "notebooks = [\n",
        "{\n",
        "    'title': 'Data Structures',\n",
        "    'tags': ['trees','graphs','algorithms'],\n",
        "    'text': 'A data structure is a particular way of organizing data in a computer so that it can be used effectively. The idea is to reduce the space and time complexities of different tasks. Below is an overview of some popular linear data structures. A linked list is a linear data structure (like arrays) where each element is a separate object. Each element (that is node) of a list is comprising of two items – the data and a reference to the next node.In this type of Linked list, there are two references associated with each node, One of the reference points to the next node and one to the previous node. Advantage of this data structure is that we can traverse in both the directions and for deletion we don’t need to have explicit access to previous node. Eg. NULL<-1<->2<->3->NULL'\n",
        "},\n",
        "\n",
        "{\n",
        "    'title': 'Probability',\n",
        "    'tags': ['event','outcome'],\n",
        "    'text': 'Probability implies likelihood or chance. \\n When an event is certain to happen then the probability of occurrence of that event is 1 and when it is certain that the event cannot happen then the probability of that event is 0. \\n Hence the value of probability ranges from 0 to 1. Probability has been defined in a varied manner by various schools of thought. Some of which are discussed below.'\n",
        "},\n",
        "\n",
        "{\n",
        "    'title': 'Music',\n",
        "    'tags': ['Singers','Albums'],\n",
        "    'text': 'Probability implies likelihood or chance. \\n When an event is certain to happen then the probability of occurrence of that event is 1 and when it is certain that the event cannot happen then the probability of that event is 0. \\n Hence the value of probability ranges from 0 to 1. Probability has been defined in a varied manner by various schools of thought. Some of which are discussed below.'\n",
        "},\n",
        "\n",
        " {\n",
        "    'title': 'English Speaking',\n",
        "    'tags': ['grammar','pronunciation'],\n",
        "    'text': 'Vowels help us in distinguishing one word from another. Needless to say, when you are not fluent with the vowel sounds, your speech sounds confusing and vague.\\nThere are no straightforward answers to the question of which language has more vowels, since that entirely depends on how they are counted. However, in the following activity, we have tried to list the most common variations on vowels in English. You are requested to read the words aloud to understand the difference in pronunciation vowels bring in words with almost identical spellings.'\n",
        "},\n",
        "\n",
        "{\n",
        "    'title': 'Games',\n",
        "    'tags': ['Stamina','diet','health'],\n",
        "    'text': 'sports and games are essential for both physical and mental of the students. Moreover, it increases the immunity of the person. As it increases the blood flow in the body and makes it adaptable for exertion. The main difference between a sport and a game is, we can play games both indoors and outdoors. But we can only play sports outdoors. Furthermore, there are various advantages to sports and games. Some of them are below:'\n",
        "}\n",
        "\n",
        "]\n"
      ],
      "execution_count": null,
      "outputs": []
    },
    {
      "cell_type": "code",
      "metadata": {
        "id": "rMQ6oTXJeCEc",
        "colab_type": "code",
        "colab": {}
      },
      "source": [
        "new_notebook = 'As the name suggests the classical approach to defining probability is the oldest approach. It states that if there are n exhaustive, mutually exclusive andequally likely cases out of which m cases are favourable to the happening ofevent A, \\nThen the probabilities of event A is defined as given by the following probability function:'"
      ],
      "execution_count": null,
      "outputs": []
    },
    {
      "cell_type": "code",
      "metadata": {
        "id": "DND4HFV9igfh",
        "colab_type": "code",
        "colab": {}
      },
      "source": [
        "training_text = []\n",
        "training_text.append(new_notebook)\n",
        "for notebook in notebooks:\n",
        "  final_text = 3*(notebook['title']+' ') + notebook['text']\n",
        "  for tag in notebook['tags']:\n",
        "    final_text += 3*(tag + ' ')\n",
        "  training_text.append(final_text)\n"
      ],
      "execution_count": null,
      "outputs": []
    },
    {
      "cell_type": "code",
      "metadata": {
        "id": "GBCZwFjRkCBt",
        "colab_type": "code",
        "colab": {}
      },
      "source": [
        "stopwords_removed = TfidfVectorizer(stop_words='english')\n",
        "final_vectors = TfidfVectorizer().fit_transform(training_text)\n",
        "notebooks_similarity = final_vectors * final_vectors.T"
      ],
      "execution_count": null,
      "outputs": []
    },
    {
      "cell_type": "code",
      "metadata": {
        "id": "jH4wOpBgmZ6U",
        "colab_type": "code",
        "colab": {}
      },
      "source": [
        "maxx = 0 \n",
        "similarity_from_new = notebooks_similarity.toarray()[0]\n",
        "\n",
        "total_notebooks = len(similarity_from_new)\n",
        "\n",
        "new_array = []\n",
        "for i in range(1,total_notebooks):\n",
        "  temp = [similarity_from_new[i]]\n",
        "  temp.append(i)\n",
        "  new_array.append(temp)\n",
        "\n",
        "new_array.sort(reverse=True)\n"
      ],
      "execution_count": null,
      "outputs": []
    },
    {
      "cell_type": "code",
      "metadata": {
        "id": "yfGV3-FKqPfS",
        "colab_type": "code",
        "colab": {}
      },
      "source": [
        "required_notebooks = []\n",
        "for i in new_array:\n",
        "  ind = i[1]-1 \n",
        "  required_notebooks.append(notebooks[ind])\n"
      ],
      "execution_count": null,
      "outputs": []
    },
    {
      "cell_type": "code",
      "metadata": {
        "id": "VhP7h4YulzUH",
        "colab_type": "code",
        "colab": {}
      },
      "source": [
        ""
      ],
      "execution_count": null,
      "outputs": []
    },
    {
      "cell_type": "markdown",
      "metadata": {
        "id": "uUsvMhEytVE4",
        "colab_type": "text"
      },
      "source": [
        "**new_notebook**: string  (containing just text) \n",
        "\n",
        "**previous_notebooks**: list comprised of dictionaries denoting notebooks\n",
        "\n",
        "dictionary format: {\n",
        "  'title': '',\n",
        "  'tags': ['','',''],\n",
        "  'text: ''\n",
        "}\n",
        "\n",
        "**returned notebooks**: list comprised of dictionaries denoting notebooks (<=5)\n",
        "\n",
        "dictionary format: {\n",
        "  'title': '',\n",
        "  'tags': ['','',''],\n",
        "  'text: ''\n",
        "}"
      ]
    },
    {
      "cell_type": "code",
      "metadata": {
        "id": "GDnfg_AHsGCi",
        "colab_type": "code",
        "colab": {}
      },
      "source": [
        "# Function"
      ],
      "execution_count": null,
      "outputs": []
    },
    {
      "cell_type": "code",
      "metadata": {
        "id": "SZNbU1bgsNDB",
        "colab_type": "code",
        "colab": {}
      },
      "source": [
        "def recommended_notebooks(new_notebook,previous_notebooks):\n",
        "  training_text = []\n",
        "  training_text.append(new_notebook)\n",
        "  for notebook in previous_notebooks:\n",
        "    final_text = 3*(notebook['title']+' ') + notebook['text']\n",
        "    for tag in notebook['tags']:\n",
        "      final_text += 3*(tag + ' ')\n",
        "    training_text.append(final_text)\n",
        "  stopwords_removed = TfidfVectorizer(stop_words='english')\n",
        "  final_vectors = TfidfVectorizer().fit_transform(training_text)\n",
        "  notebooks_similarity = final_vectors * final_vectors.T\n",
        "  similarity_from_new = notebooks_similarity.toarray()[0]\n",
        "  total_notebooks = len(similarity_from_new)\n",
        "  new_array = []\n",
        "  for i in range(1,total_notebooks):\n",
        "    temp = [similarity_from_new[i]]\n",
        "    temp.append(i)\n",
        "    new_array.append(temp)\n",
        "  new_array.sort(reverse=True)\n",
        "  required_notebooks = []\n",
        "  for i in new_array:\n",
        "    ind = i[1]-1 \n",
        "    required_notebooks.append(notebooks[ind])\n",
        "  return required_notebooks[:3]\n",
        "\n"
      ],
      "execution_count": null,
      "outputs": []
    },
    {
      "cell_type": "code",
      "metadata": {
        "id": "HAvcx52siGrb",
        "colab_type": "code",
        "colab": {
          "base_uri": "https://localhost:8080/",
          "height": 84
        },
        "outputId": "826c971b-396b-4fb9-c94a-e67d8ff8c1ca"
      },
      "source": [
        "#@title Add Note\n",
        "\n",
        "text = \"\\\"Algorithm is a step-by-step procedure, which defines a set of instructions to be executed in a certain order to get the desired output. Algorithms are generally created independent of underlying languages, i.e. an algorithm can be implemented in more than one programming language.\\\"\" #@param {type:\"string\"}\n",
        "\n",
        "rec = recommended_notebooks(text,notebooks)\n",
        "\n",
        "print(\"Recommended Notebook\")\n",
        "for i in rec:\n",
        "  print(\"\\t\"+i['title'])"
      ],
      "execution_count": null,
      "outputs": [
        {
          "output_type": "stream",
          "text": [
            "Recommended Notebook\n",
            "\tData Structures\n",
            "\tMusic\n",
            "\tEnglish Speaking\n"
          ],
          "name": "stdout"
        }
      ]
    },
    {
      "cell_type": "code",
      "metadata": {
        "id": "fPzgQOOhqA-d",
        "colab_type": "code",
        "colab": {
          "base_uri": "https://localhost:8080/",
          "height": 84
        },
        "outputId": "cb166d05-f306-4b39-be1c-8ee35c40d5a1"
      },
      "source": [
        "#@title Add Note\n",
        "\n",
        "text = \"\\\"As the name suggests the classical approach to defining probability is the oldest approach. It states that if there are n exhaustive, mutually exclusive andequally likely cases out of which m cases are favourable to the happening ofevent A, \\\\nThen the probabilities of event A is defined as given by the following probability function\\\"\" #@param {type:\"string\"}\n",
        "\n",
        "rec = recommended_notebooks(text,notebooks)\n",
        "\n",
        "print(\"Recommended Notebook\")\n",
        "for i in rec:\n",
        "  print(\"\\t\"+i['title'])"
      ],
      "execution_count": null,
      "outputs": [
        {
          "output_type": "stream",
          "text": [
            "Recommended Notebook\n",
            "\tProbability\n",
            "\tMusic\n",
            "\tData Structures\n"
          ],
          "name": "stdout"
        }
      ]
    },
    {
      "cell_type": "code",
      "metadata": {
        "id": "LBZOWq6aqBDQ",
        "colab_type": "code",
        "colab": {
          "base_uri": "https://localhost:8080/",
          "height": 84
        },
        "outputId": "3909e126-cc2c-4c0c-cd99-1c0b7446a2b5"
      },
      "source": [
        "#@title Add Note\n",
        "\n",
        "text = \"Sport includes all forms of competitive physical activity or games which,[1] through casual or organized participation, at least in part aim to use, maintain or improve physical ability and skills while providing enjoyment to participants, and in some cases, entertainment for spectators.[2] Sports can bring positive results to one's physical health.\" #@param {type:\"string\"}\n",
        "\n",
        "rec = recommended_notebooks(text,notebooks)\n",
        "\n",
        "print(\"Recommended Notebook\")\n",
        "for i in rec:\n",
        "  print(\"\\t\"+i['title'])"
      ],
      "execution_count": null,
      "outputs": [
        {
          "output_type": "stream",
          "text": [
            "Recommended Notebook\n",
            "\tGames\n",
            "\tEnglish Speaking\n",
            "\tData Structures\n"
          ],
          "name": "stdout"
        }
      ]
    },
    {
      "cell_type": "code",
      "metadata": {
        "id": "uIxwcKiG3Euo",
        "colab_type": "code",
        "colab": {}
      },
      "source": [
        ""
      ],
      "execution_count": null,
      "outputs": []
    }
  ]
}